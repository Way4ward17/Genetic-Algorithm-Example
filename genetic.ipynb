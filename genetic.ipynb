{
 "cells": [
  {
   "cell_type": "code",
   "execution_count": 53,
   "metadata": {},
   "outputs": [],
   "source": [
    "import numpy as np\n",
    "import pandas as pd\n",
    "import ga"
   ]
  },
  {
   "cell_type": "code",
   "execution_count": 54,
   "metadata": {},
   "outputs": [],
   "source": [
    "def cal_pop_fitness(equation_inputs, pop):\n",
    "     fitness = np.sum(pop*equation_inputs, axis=1)\n",
    "     return fitness"
   ]
  },
  {
   "cell_type": "code",
   "execution_count": 55,
   "metadata": {},
   "outputs": [],
   "source": [
    "def select_mating_pool(pop, fitness, num_parents):\n",
    "    parents = np.empty((num_parents, pop.shape[1]))\n",
    "    for parent_num in range(num_parents):\n",
    "        max_fitness_idx = np.where(fitness == np.max(fitness))\n",
    "        max_fitness_idx = max_fitness_idx[0][0]\n",
    "        parents[parent_num, :] = pop[max_fitness_idx, :]\n",
    "        fitness[max_fitness_idx] = -99999999999\n",
    "    return parents"
   ]
  },
  {
   "cell_type": "code",
   "execution_count": 56,
   "metadata": {},
   "outputs": [],
   "source": [
    "def crossover(parents, offspring_size):\n",
    "     offspring = np.empty(offspring_size)\n",
    "     crossover_point = np.uint8(offspring_size[1]/2)\n",
    "     for k in range(offspring_size[0]):\n",
    "         parent1_idx = k%parents.shape[0]\n",
    "         parent2_idx = (k+1)%parents.shape[0]\n",
    "         offspring[k, 0:crossover_point] = parents[parent1_idx, 0:crossover_point]\n",
    "         offspring[k, crossover_point:] = parents[parent2_idx, crossover_point:]\n",
    "     return offspring"
   ]
  },
  {
   "cell_type": "code",
   "execution_count": 57,
   "metadata": {},
   "outputs": [],
   "source": [
    "def mutation(offspring_crossover):\n",
    "    for idx in range(offspring_crossover.shape[0]):\n",
    "        random_value = np.random.uniform(-1.0, 1.0, 1)\n",
    "        offspring_crossover[idx, 4] = offspring_crossover[idx, 4] + random_value\n",
    "    return offspring_crossover"
   ]
  },
  {
   "cell_type": "code",
   "execution_count": 58,
   "metadata": {},
   "outputs": [
    {
     "name": "stdout",
     "output_type": "stream",
     "text": [
      " \n",
      "[[ 2.52537725 -0.52286244 -1.20121716 ...  0.54150186 -1.63798341\n",
      "  -0.44422138]\n",
      " [ 1.77162399  2.50621767  1.56504301 ... -1.55995474 -3.62794222\n",
      "   1.4510588 ]\n",
      " [-2.80336649  1.97682051 -3.47841463 ... -2.91501557 -0.20868572\n",
      "   3.60708721]\n",
      " ...\n",
      " [-3.40420166 -0.05704053  3.62952879 ... -3.99816083 -0.03575638\n",
      "  -3.94100081]\n",
      " [-3.74223996 -3.94643779 -1.60699754 ... -3.48251275 -0.80573786\n",
      "  -2.54284489]\n",
      " [-3.14910114  2.53266021 -3.66493189 ... -0.9873547   2.06638586\n",
      "   3.36980143]]\n",
      " \n"
     ]
    }
   ],
   "source": [
    "equation_inputs = pd.read_excel(\"dataset.xlsx\")\n",
    "num_weights = 11\n",
    "sol_per_pop = 200\n",
    "num_parents_mating = 11\n",
    "pop_size = (sol_per_pop,num_weights)\n",
    "new_population = np.random.uniform(low=-4.0, high=4.0, size=pop_size)\n",
    "print(\" \")\n",
    "print(new_population) \n",
    "print(\" \")\n",
    "num_generations = 11"
   ]
  },
  {
   "cell_type": "code",
   "execution_count": 59,
   "metadata": {},
   "outputs": [
    {
     "name": "stdout",
     "output_type": "stream",
     "text": [
      "Generation :  0\n",
      "Generation :  1\n",
      "Generation :  2\n",
      "Generation :  3\n",
      "Generation :  4\n",
      "Generation :  5\n",
      "Generation :  6\n",
      "Generation :  7\n",
      "Generation :  8\n",
      "Generation :  9\n",
      "Generation :  10\n",
      " \n"
     ]
    }
   ],
   "source": [
    "for generation in range(num_generations):\n",
    "    print(\"Generation : \", generation)\n",
    "print(\" \")"
   ]
  },
  {
   "cell_type": "code",
   "execution_count": 60,
   "metadata": {},
   "outputs": [],
   "source": [
    "fitness = cal_pop_fitness(equation_inputs, new_population)\n",
    "\n",
    "parents = select_mating_pool(new_population, fitness, num_parents_mating)\n",
    "                                     \n",
    "offspring_crossover = crossover(parents, offspring_size=(pop_size[0]-parents.shape[0], num_weights))\n",
    "                                       \n",
    "offspring_mutation = mutation(offspring_crossover)\n",
    "\n",
    "new_population[0:parents.shape[0], :] = parents\n",
    "new_population[parents.shape[0]:, :] = offspring_mutation"
   ]
  },
  {
   "cell_type": "code",
   "execution_count": 61,
   "metadata": {},
   "outputs": [
    {
     "name": "stdout",
     "output_type": "stream",
     "text": [
      " \n",
      "Best result is :  104.09051306536568\n",
      " \n",
      "And the index is  0\n",
      " \n",
      " \n",
      "Best solution :  [[[ 2.62968236  2.43252078  0.07213122  2.01803094  2.08218473\n",
      "    2.33097101  2.78927615 -1.27771899  2.92963128  2.57205169\n",
      "    3.66233532]]]\n",
      " \n"
     ]
    }
   ],
   "source": [
    "print(\" \")\n",
    "print(\"Best result is : \", np.max(np.sum(new_population*equation_inputs, axis=1)))\n",
    "print(\" \")\n",
    "print(\"And the index is \", np.argmax((np.max(np.sum(new_population*equation_inputs, axis=1)))))\n",
    "fitness = cal_pop_fitness(equation_inputs, new_population)\n",
    "best_match_idx = np.where(fitness == np.max(fitness))\n",
    "print(\" \")\n",
    "print(\" \")\n",
    "print(\"Best solution : \", new_population[best_match_idx, :])\n",
    "print(\" \")"
   ]
  },
  {
   "cell_type": "code",
   "execution_count": null,
   "metadata": {},
   "outputs": [],
   "source": []
  },
  {
   "cell_type": "code",
   "execution_count": null,
   "metadata": {},
   "outputs": [],
   "source": []
  }
 ],
 "metadata": {
  "kernelspec": {
   "display_name": "Python 3",
   "language": "python",
   "name": "python3"
  },
  "language_info": {
   "codemirror_mode": {
    "name": "ipython",
    "version": 3
   },
   "file_extension": ".py",
   "mimetype": "text/x-python",
   "name": "python",
   "nbconvert_exporter": "python",
   "pygments_lexer": "ipython3",
   "version": "3.7.4"
  }
 },
 "nbformat": 4,
 "nbformat_minor": 2
}
